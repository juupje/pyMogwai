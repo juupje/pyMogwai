{
 "cells": [
  {
   "cell_type": "code",
   "execution_count": 1,
   "metadata": {},
   "outputs": [],
   "source": [
    "from mogwai.core import MogwaiGraph\n",
    "from mogwai.parser import graphml_to_mogwaigraph\n",
    "from mogwai.core.traversal import MogwaiGraphTraversalSource\n",
    "from mogwai.core.steps.statics import *"
   ]
  },
  {
   "cell_type": "code",
   "execution_count": 5,
   "metadata": {},
   "outputs": [],
   "source": [
    "graph = graphml_to_mogwaigraph(\n",
    "    \"tests/documents/air-routes-latest.graphml\",\n",
    "    node_label_key=\"labelV\",\n",
    "    edge_label_key=\"labelE\",\n",
    "    node_name_key=\"code\",\n",
    ")\n",
    "g = MogwaiGraphTraversalSource(graph)"
   ]
  },
  {
   "cell_type": "code",
   "execution_count": 6,
   "metadata": {},
   "outputs": [
    {
     "data": {
      "text/plain": [
       "[{'labels': {'airport'},\n",
       "  'name': 'airport',\n",
       "  'labelV': 'airport',\n",
       "  'type': 'airport',\n",
       "  'code': 'ATL',\n",
       "  'icao': 'KATL',\n",
       "  'city': 'Atlanta',\n",
       "  'desc': 'Hartsfield - Jackson Atlanta International Airport',\n",
       "  'region': 'US-GA',\n",
       "  'runways': 5,\n",
       "  'longest': 12390,\n",
       "  'elev': 1026,\n",
       "  'country': 'US',\n",
       "  'lat': 33.6366996765137,\n",
       "  'lon': -84.4281005859375}]"
      ]
     },
     "execution_count": 6,
     "metadata": {},
     "output_type": "execute_result"
    }
   ],
   "source": [
    "g.V().element_map().range(1,2).to_list().run()"
   ]
  },
  {
   "cell_type": "code",
   "execution_count": 5,
   "metadata": {},
   "outputs": [
    {
     "data": {
      "text/plain": [
       "{'labels': 'route', 'dist': 809, 'id': '3749'}"
      ]
     },
     "execution_count": 5,
     "metadata": {},
     "output_type": "execute_result"
    }
   ],
   "source": [
    "g.V(1).outE().element_map().next().run()"
   ]
  },
  {
   "cell_type": "code",
   "execution_count": 6,
   "metadata": {},
   "outputs": [
    {
     "data": {
      "text/plain": [
       "['Alicante International Airport',\n",
       " 'Malta International Airport',\n",
       " 'Istanbul International Airport',\n",
       " 'Palma De Mallorca Airport',\n",
       " 'Antalya International Airport',\n",
       " 'Zakynthos, Dionysios Solomos Airport',\n",
       " 'Faro Airport',\n",
       " 'Francisco de Sa Carneiro Airport',\n",
       " 'Kos Airport',\n",
       " 'Tenerife South Airport',\n",
       " 'Heraklion International Nikos Kazantzakis Airport',\n",
       " 'Ioannis Kapodistrias International Airport',\n",
       " 'Bari Karol Wojtyła Airport',\n",
       " 'Catania-Fontanarossa Airport',\n",
       " 'Girona Airport',\n",
       " 'Vincenzo Florio Airport Trapani-Birgi',\n",
       " 'Alghero-Fertilia Airport']"
      ]
     },
     "execution_count": 6,
     "metadata": {},
     "output_type": "execute_result"
    }
   ],
   "source": [
    "g.V().has('city', 'Maastricht').out().values('desc').to_list().run()"
   ]
  },
  {
   "cell_type": "code",
   "execution_count": 7,
   "metadata": {},
   "outputs": [
    {
     "name": "stdout",
     "output_type": "stream",
     "text": [
      "['Daocheng', 'Bangda', 'Kangding', 'La Paz / El Alto', 'Xigaze']\n",
      "['Daocheng', 'Bangda', 'Kangding', 'La Paz / El Alto', 'Xigaze']\n"
     ]
    }
   ],
   "source": [
    "print(g.V().has('city','Frankfurt').union(out(), out().out()).order(desc=True).by(\"elev\").values(\"city\").dedup().limit(5).to_list().run())\n",
    "print(g.V().has('city','Frankfurt').repeat(out()).times(2).emit().order(desc=True).by(\"elev\").values(\"city\").dedup().limit(5).to_list().run())"
   ]
  },
  {
   "cell_type": "code",
   "execution_count": 8,
   "metadata": {},
   "outputs": [
    {
     "data": {
      "text/plain": [
       "['Nunapitchuk', 'Napaskiak']"
      ]
     },
     "execution_count": 8,
     "metadata": {},
     "output_type": "execute_result"
    }
   ],
   "source": [
    "g.V().has(\"country\", \"US\").repeat(outE().has(\"dist\",lt(20)).inV()).times(5).simple_path().values(\"city\").to_list().run()"
   ]
  },
  {
   "cell_type": "code",
   "execution_count": 10,
   "metadata": {},
   "outputs": [
    {
     "data": {
      "text/plain": [
       "[]"
      ]
     },
     "execution_count": 10,
     "metadata": {},
     "output_type": "execute_result"
    }
   ],
   "source": [
    "g.V().has(\"country\",\"DE\").as_(\"start\").union(\n",
    "    has(\"runways\",eq(1)).out().out(),\n",
    "    has(\"runways\",gte(1)).out()\n",
    ").has('code','PMI').select(\"start\").values(\"code\").dedup().to_list().run()"
   ]
  },
  {
   "cell_type": "code",
   "execution_count": 15,
   "metadata": {},
   "outputs": [
    {
     "data": {
      "text/plain": [
       "{'labels': {'airport'},\n",
       " 'name': 'FRA',\n",
       " 'type': 'airport',\n",
       " 'icao': 'EDDF',\n",
       " 'city': 'Frankfurt',\n",
       " 'desc': 'Frankfurt am Main',\n",
       " 'region': 'DE-HE',\n",
       " 'runways': 4,\n",
       " 'longest': 13123,\n",
       " 'elev': 364,\n",
       " 'country': 'DE',\n",
       " 'lat': 50.0264015198,\n",
       " 'lon': 8.54312992096}"
      ]
     },
     "execution_count": 15,
     "metadata": {},
     "output_type": "execute_result"
    }
   ],
   "source": [
    "g.V().has(\"country\",\"DE\").element_map().next().run()"
   ]
  },
  {
   "cell_type": "code",
   "execution_count": 4,
   "metadata": {},
   "outputs": [
    {
     "data": {
      "text/plain": [
       "['FRA',\n",
       " 'MUC',\n",
       " 'CGN',\n",
       " 'HAM',\n",
       " 'STR',\n",
       " 'DUS',\n",
       " 'HAJ',\n",
       " 'DRS',\n",
       " 'BRE',\n",
       " 'ERF',\n",
       " 'DTM',\n",
       " 'NUE',\n",
       " 'LEJ',\n",
       " 'FMO',\n",
       " 'FDH',\n",
       " 'HHN',\n",
       " 'FMM',\n",
       " 'PAD',\n",
       " 'NRN',\n",
       " 'RLG',\n",
       " 'FKB',\n",
       " 'SCN',\n",
       " 'LBC',\n",
       " 'ZQW',\n",
       " 'KSF',\n",
       " 'XFW',\n",
       " 'NDZ',\n",
       " 'BER']"
      ]
     },
     "execution_count": 4,
     "metadata": {},
     "output_type": "execute_result"
    }
   ],
   "source": [
    "g.V().has(\"country\",\"DE\").as_(\"start\").union(\n",
    "    has(\"runways\",eq(1)).out().out(),\n",
    "    has(\"runways\",gte(1)).out()\n",
    ").has('code','PMI').select(\"start\").values(\"code\").dedup().to_list().run()"
   ]
  },
  {
   "cell_type": "code",
   "execution_count": 10,
   "metadata": {},
   "outputs": [
    {
     "name": "stdout",
     "output_type": "stream",
     "text": [
      "['Paris', 'Barcelona', 'Madrid', 'Nice', 'Palma De Mallorca', 'Malaga', 'Tenerife Island']\n",
      "['Paris', 'Barcelona', 'Madrid', 'Nice', 'Palma De Mallorca', 'Malaga', 'Tenerife Island']\n"
     ]
    }
   ],
   "source": [
    "print(g.V().has(\"code\", \"DUS\").out()\\\n",
    "\t.or_(has('country', 'ES'),has('country', 'FR'))\\\n",
    "\t.outE().as_(\"secondflight\").inV().has(\"country\",\"US\")\\\n",
    "\t.select(\"secondflight\").outV().values(\"city\").dedup().to_list().run())\n",
    "print(g.V().has('code' , 'DUS').out()\\\n",
    "\t.or_(has('country', 'ES'),has('country', 'FR')).as_(\"changeover\")\\\n",
    "\t.out().has('country','US').select(\"changeover\").values('city').dedup().to_list().run())"
   ]
  },
  {
   "cell_type": "code",
   "execution_count": 2,
   "metadata": {},
   "outputs": [],
   "source": [
    "graph = MogwaiGraph()\n",
    "g = MogwaiGraphTraversalSource(graph)"
   ]
  },
  {
   "cell_type": "code",
   "execution_count": 3,
   "metadata": {},
   "outputs": [
    {
     "data": {
      "text/plain": [
       "(0, 1)"
      ]
     },
     "execution_count": 3,
     "metadata": {},
     "output_type": "execute_result"
    }
   ],
   "source": [
    "jamie = g.addV(\"profile\", \"jamie\").property(\"age\", 50).next().run()\n",
    "adam = g.addV(\"profile\", \"adam\").property(\"age\", 38).next().run()\n",
    "g.addE(\"knows\").from_(jamie).to_(adam).property(\"years\", 15).next().run()"
   ]
  }
 ],
 "metadata": {
  "kernelspec": {
   "display_name": "mogwai",
   "language": "python",
   "name": "python3"
  },
  "language_info": {
   "codemirror_mode": {
    "name": "ipython",
    "version": 3
   },
   "file_extension": ".py",
   "mimetype": "text/x-python",
   "name": "python",
   "nbconvert_exporter": "python",
   "pygments_lexer": "ipython3",
   "version": "3.12.3"
  }
 },
 "nbformat": 4,
 "nbformat_minor": 2
}
