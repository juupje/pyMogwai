{
 "cells": [
  {
   "cell_type": "code",
   "execution_count": 15,
   "metadata": {},
   "outputs": [],
   "source": [
    "from mogwai.core import MogwaiGraph\n",
    "from mogwai.parser import graphml_to_mogwaigraph\n",
    "from mogwai.core.traversal import MogwaiGraphTraversalSource\n",
    "from mogwai.core.steps.statics import *"
   ]
  },
  {
   "cell_type": "code",
   "execution_count": 2,
   "metadata": {},
   "outputs": [],
   "source": [
    "graph = graphml_to_mogwaigraph(\n",
    "    \"tests/documents/air-routes-latest.graphml\",\n",
    "    node_label_key=\"labelV\",\n",
    "    edge_label_key=\"labelE\",\n",
    "    node_name_key=\"code\",\n",
    ")\n",
    "g = MogwaiGraphTraversalSource(graph)"
   ]
  },
  {
   "cell_type": "code",
   "execution_count": 3,
   "metadata": {},
   "outputs": [
    {
     "data": {
      "text/plain": [
       "[{'labels': {'airport'},\n",
       "  'name': 'ATL',\n",
       "  'type': 'airport',\n",
       "  'icao': 'KATL',\n",
       "  'city': 'Atlanta',\n",
       "  'desc': 'Hartsfield - Jackson Atlanta International Airport',\n",
       "  'region': 'US-GA',\n",
       "  'runways': 5,\n",
       "  'longest': 12390,\n",
       "  'elev': 1026,\n",
       "  'country': 'US',\n",
       "  'lat': 33.6366996765137,\n",
       "  'lon': -84.4281005859375}]"
      ]
     },
     "execution_count": 3,
     "metadata": {},
     "output_type": "execute_result"
    }
   ],
   "source": [
    "g.V().element_map().range(1,2).to_list().run()"
   ]
  },
  {
   "cell_type": "code",
   "execution_count": 14,
   "metadata": {},
   "outputs": [
    {
     "data": {
      "text/plain": [
       "{'labels': 'route', 'dist': 809, 'id': '3749'}"
      ]
     },
     "execution_count": 14,
     "metadata": {},
     "output_type": "execute_result"
    }
   ],
   "source": [
    "g.V(1).outE().element_map().next().run()"
   ]
  },
  {
   "cell_type": "code",
   "execution_count": 12,
   "metadata": {},
   "outputs": [
    {
     "data": {
      "text/plain": [
       "['Alicante International Airport',\n",
       " 'Malta International Airport',\n",
       " 'Istanbul International Airport',\n",
       " 'Palma De Mallorca Airport',\n",
       " 'Antalya International Airport',\n",
       " 'Zakynthos, Dionysios Solomos Airport',\n",
       " 'Faro Airport',\n",
       " 'Francisco de Sa Carneiro Airport',\n",
       " 'Kos Airport',\n",
       " 'Tenerife South Airport',\n",
       " 'Heraklion International Nikos Kazantzakis Airport',\n",
       " 'Ioannis Kapodistrias International Airport',\n",
       " 'Bari Karol Wojtyła Airport',\n",
       " 'Catania-Fontanarossa Airport',\n",
       " 'Girona Airport',\n",
       " 'Vincenzo Florio Airport Trapani-Birgi',\n",
       " 'Alghero-Fertilia Airport']"
      ]
     },
     "execution_count": 12,
     "metadata": {},
     "output_type": "execute_result"
    }
   ],
   "source": [
    "g.V().has('city', 'Maastricht').out().values('desc').to_list().run()"
   ]
  },
  {
   "cell_type": "code",
   "execution_count": 18,
   "metadata": {},
   "outputs": [
    {
     "name": "stdout",
     "output_type": "stream",
     "text": [
      "['Daocheng', 'Bangda', 'Kangding', 'La Paz / El Alto', 'Xigaze']\n",
      "['Daocheng', 'Bangda', 'Kangding', 'La Paz / El Alto', 'Xigaze']\n"
     ]
    }
   ],
   "source": [
    "print(g.V().has('city','Frankfurt').union(out(), out().out()).order(desc=True).by(\"elev\").values(\"city\").dedup().limit(5).to_list().run())\n",
    "print(g.V().has('city','Frankfurt').repeat(out()).times(2).emit().order(desc=True).by(\"elev\").values(\"city\").dedup().limit(5).to_list().run())"
   ]
  },
  {
   "cell_type": "code",
   "execution_count": 20,
   "metadata": {},
   "outputs": [
    {
     "data": {
      "text/plain": [
       "['Nunapitchuk', 'Napaskiak']"
      ]
     },
     "execution_count": 20,
     "metadata": {},
     "output_type": "execute_result"
    }
   ],
   "source": [
    "g.V().has(\"country\", \"US\").repeat(outE().has(\"dist\",lt(20)).inV()).times(5).simple_path().values(\"city\").to_list().run()"
   ]
  }
 ],
 "metadata": {
  "kernelspec": {
   "display_name": "mogwai",
   "language": "python",
   "name": "python3"
  },
  "language_info": {
   "codemirror_mode": {
    "name": "ipython",
    "version": 3
   },
   "file_extension": ".py",
   "mimetype": "text/x-python",
   "name": "python",
   "nbconvert_exporter": "python",
   "pygments_lexer": "ipython3",
   "version": "3.12.3"
  }
 },
 "nbformat": 4,
 "nbformat_minor": 2
}
