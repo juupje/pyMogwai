{
 "cells": [
  {
   "cell_type": "markdown",
   "metadata": {},
   "source": [
    "# Sample Solution for Exercise 10 of Database and Information Systems Lecture SS2024 RWTH Aachen i5"
   ]
  },
  {
   "cell_type": "code",
   "execution_count": 6,
   "metadata": {},
   "outputs": [],
   "source": [
    "from mogwai.core import MogwaiGraph\n",
    "from mogwai.parser import graphml_to_mogwaigraph\n",
    "from mogwai.core.traversal import MogwaiGraphTraversalSource\n",
    "from mogwai.core.steps.statics import *"
   ]
  },
  {
   "cell_type": "code",
   "execution_count": 3,
   "metadata": {},
   "outputs": [],
   "source": [
    "graph = graphml_to_mogwaigraph(\n",
    "    \"air-routes-latest.graphml\",\n",
    "    node_label_key=\"labelV\",\n",
    "    edge_label_key=\"labelE\",\n",
    "    node_name_key=\"code\",\n",
    ")\n",
    "g = MogwaiGraphTraversalSource(graph)"
   ]
  },
  {
   "cell_type": "code",
   "execution_count": 4,
   "metadata": {},
   "outputs": [
    {
     "data": {
      "text/plain": [
       "[{'name': 'ATL',\n",
       "  'labels': 'airport',\n",
       "  'labelV': 'airport',\n",
       "  'type': 'airport',\n",
       "  'code': 'ATL',\n",
       "  'icao': 'KATL',\n",
       "  'city': 'Atlanta',\n",
       "  'desc': 'Hartsfield - Jackson Atlanta International Airport',\n",
       "  'region': 'US-GA',\n",
       "  'runways': 5,\n",
       "  'longest': 12390,\n",
       "  'elev': 1026,\n",
       "  'country': 'US',\n",
       "  'lat': 33.6366996765137,\n",
       "  'lon': -84.4281005859375}]"
      ]
     },
     "execution_count": 4,
     "metadata": {},
     "output_type": "execute_result"
    }
   ],
   "source": [
    "g.V().element_map().range(1,2).to_list().run()"
   ]
  },
  {
   "cell_type": "code",
   "execution_count": 5,
   "metadata": {},
   "outputs": [
    {
     "ename": "GraphTraversalError",
     "evalue": "No node with id 1.",
     "output_type": "error",
     "traceback": [
      "\u001b[0;31m---------------------------------------------------------------------------\u001b[0m",
      "\u001b[0;31mGraphTraversalError\u001b[0m                       Traceback (most recent call last)",
      "Cell \u001b[0;32mIn[5], line 1\u001b[0m\n\u001b[0;32m----> 1\u001b[0m \u001b[43mg\u001b[49m\u001b[38;5;241;43m.\u001b[39;49m\u001b[43mV\u001b[49m\u001b[43m(\u001b[49m\u001b[38;5;241;43m1\u001b[39;49m\u001b[43m)\u001b[49m\u001b[38;5;241;43m.\u001b[39;49m\u001b[43moutE\u001b[49m\u001b[43m(\u001b[49m\u001b[43m)\u001b[49m\u001b[38;5;241;43m.\u001b[39;49m\u001b[43melement_map\u001b[49m\u001b[43m(\u001b[49m\u001b[43m)\u001b[49m\u001b[38;5;241;43m.\u001b[39;49m\u001b[43mnext\u001b[49m\u001b[43m(\u001b[49m\u001b[43m)\u001b[49m\u001b[38;5;241;43m.\u001b[39;49m\u001b[43mrun\u001b[49m\u001b[43m(\u001b[49m\u001b[43m)\u001b[49m\n",
      "File \u001b[0;32m/opt/miniconda3/envs/mogwai_env/lib/python3.10/site-packages/mogwai/core/traversal.py:689\u001b[0m, in \u001b[0;36mTraversal.run\u001b[0;34m(self)\u001b[0m\n\u001b[1;32m    687\u001b[0m     \u001b[38;5;28;01mfor\u001b[39;00m step \u001b[38;5;129;01min\u001b[39;00m \u001b[38;5;28mself\u001b[39m\u001b[38;5;241m.\u001b[39mquery_steps:\n\u001b[1;32m    688\u001b[0m         logger\u001b[38;5;241m.\u001b[39mdebug(\u001b[38;5;124m\"\u001b[39m\u001b[38;5;124mRunning step:\u001b[39m\u001b[38;5;124m\"\u001b[39m \u001b[38;5;241m+\u001b[39m \u001b[38;5;28mstr\u001b[39m(step))\n\u001b[0;32m--> 689\u001b[0m         \u001b[38;5;28mself\u001b[39m\u001b[38;5;241m.\u001b[39mtraversers \u001b[38;5;241m=\u001b[39m \u001b[43mstep\u001b[49m\u001b[43m(\u001b[49m\u001b[38;5;28;43mself\u001b[39;49m\u001b[38;5;241;43m.\u001b[39;49m\u001b[43mtraversers\u001b[49m\u001b[43m)\u001b[49m\n\u001b[1;32m    690\u001b[0m     \u001b[38;5;66;03m# TODO: Try to do some fancy error handling\u001b[39;00m\n\u001b[1;32m    691\u001b[0m \u001b[38;5;28;01mreturn\u001b[39;00m \u001b[38;5;28mself\u001b[39m\u001b[38;5;241m.\u001b[39mtraversers\n",
      "File \u001b[0;32m/opt/miniconda3/envs/mogwai_env/lib/python3.10/site-packages/mogwai/core/steps/start_steps.py:30\u001b[0m, in \u001b[0;36mV.__call__\u001b[0;34m(self, traversers)\u001b[0m\n\u001b[1;32m     28\u001b[0m                 traversers\u001b[38;5;241m.\u001b[39mappend(Traverser(v, track_path\u001b[38;5;241m=\u001b[39m\u001b[38;5;28mself\u001b[39m\u001b[38;5;241m.\u001b[39mtraversal\u001b[38;5;241m.\u001b[39mneeds_path))\n\u001b[1;32m     29\u001b[0m             \u001b[38;5;28;01melse\u001b[39;00m:\n\u001b[0;32m---> 30\u001b[0m                 \u001b[38;5;28;01mraise\u001b[39;00m GraphTraversalError(\u001b[38;5;124mf\u001b[39m\u001b[38;5;124m\"\u001b[39m\u001b[38;5;124mNo node with id \u001b[39m\u001b[38;5;132;01m{\u001b[39;00mv\u001b[38;5;132;01m}\u001b[39;00m\u001b[38;5;124m.\u001b[39m\u001b[38;5;124m\"\u001b[39m)\n\u001b[1;32m     31\u001b[0m \u001b[38;5;28;01mreturn\u001b[39;00m traversers\n",
      "\u001b[0;31mGraphTraversalError\u001b[0m: No node with id 1."
     ]
    }
   ],
   "source": [
    "g.V(1).outE().element_map().next().run()"
   ]
  },
  {
   "cell_type": "code",
   "execution_count": 6,
   "metadata": {},
   "outputs": [
    {
     "data": {
      "text/plain": [
       "['Alicante International Airport',\n",
       " 'Malta International Airport',\n",
       " 'Istanbul International Airport',\n",
       " 'Palma De Mallorca Airport',\n",
       " 'Antalya International Airport',\n",
       " 'Zakynthos, Dionysios Solomos Airport',\n",
       " 'Faro Airport',\n",
       " 'Francisco de Sa Carneiro Airport',\n",
       " 'Kos Airport',\n",
       " 'Tenerife South Airport',\n",
       " 'Heraklion International Nikos Kazantzakis Airport',\n",
       " 'Ioannis Kapodistrias International Airport',\n",
       " 'Bari Karol Wojtyła Airport',\n",
       " 'Catania-Fontanarossa Airport',\n",
       " 'Girona Airport',\n",
       " 'Vincenzo Florio Airport Trapani-Birgi',\n",
       " 'Alghero-Fertilia Airport']"
      ]
     },
     "execution_count": 6,
     "metadata": {},
     "output_type": "execute_result"
    }
   ],
   "source": [
    "g.V().has('city', 'Maastricht').out().values('desc').to_list().run()"
   ]
  },
  {
   "cell_type": "code",
   "execution_count": 7,
   "metadata": {},
   "outputs": [
    {
     "name": "stdout",
     "output_type": "stream",
     "text": [
      "['Daocheng', 'Bangda', 'Kangding', 'La Paz / El Alto', 'Xigaze']\n",
      "['Daocheng', 'Bangda', 'Kangding', 'La Paz / El Alto', 'Xigaze']\n"
     ]
    }
   ],
   "source": [
    "print(g.V().has('city','Frankfurt').union(out(), out().out()).order(desc=True).by(\"elev\").values(\"city\").dedup().limit(5).to_list().run())\n",
    "print(g.V().has('city','Frankfurt').repeat(out()).times(2).emit().order(desc=True).by(\"elev\").values(\"city\").dedup().limit(5).to_list().run())"
   ]
  },
  {
   "cell_type": "code",
   "execution_count": 8,
   "metadata": {},
   "outputs": [
    {
     "data": {
      "text/plain": [
       "['Nunapitchuk', 'Napaskiak']"
      ]
     },
     "execution_count": 8,
     "metadata": {},
     "output_type": "execute_result"
    }
   ],
   "source": [
    "g.V().has(\"country\", \"US\").repeat(outE().has(\"dist\",lt(20)).inV()).times(5).simple_path().values(\"city\").to_list().run()"
   ]
  },
  {
   "cell_type": "code",
   "execution_count": 10,
   "metadata": {
    "scrolled": true
   },
   "outputs": [
    {
     "data": {
      "text/plain": [
       "[]"
      ]
     },
     "execution_count": 10,
     "metadata": {},
     "output_type": "execute_result"
    }
   ],
   "source": [
    "g.V().has(\"country\",\"DE\").as_(\"start\").union(\n",
    "    has(\"runways\",eq(1)).out().out(),\n",
    "    has(\"runways\",gte(1)).out()\n",
    ").has('code','PMI').select(\"start\").values(\"code\").dedup().to_list().run()"
   ]
  },
  {
   "cell_type": "code",
   "execution_count": 9,
   "metadata": {},
   "outputs": [
    {
     "data": {
      "text/plain": [
       "{'name': 'FRA',\n",
       " 'labels': 'airport',\n",
       " 'labelV': 'airport',\n",
       " 'type': 'airport',\n",
       " 'code': 'FRA',\n",
       " 'icao': 'EDDF',\n",
       " 'city': 'Frankfurt',\n",
       " 'desc': 'Frankfurt am Main',\n",
       " 'region': 'DE-HE',\n",
       " 'runways': 4,\n",
       " 'longest': 13123,\n",
       " 'elev': 364,\n",
       " 'country': 'DE',\n",
       " 'lat': 50.0264015198,\n",
       " 'lon': 8.54312992096}"
      ]
     },
     "execution_count": 9,
     "metadata": {},
     "output_type": "execute_result"
    }
   ],
   "source": [
    "g.V().has(\"country\",\"DE\").element_map().next().run()"
   ]
  },
  {
   "cell_type": "code",
   "execution_count": 10,
   "metadata": {},
   "outputs": [
    {
     "data": {
      "text/plain": [
       "['FRA',\n",
       " 'MUC',\n",
       " 'CGN',\n",
       " 'HAM',\n",
       " 'STR',\n",
       " 'DUS',\n",
       " 'HAJ',\n",
       " 'DRS',\n",
       " 'BRE',\n",
       " 'ERF',\n",
       " 'DTM',\n",
       " 'NUE',\n",
       " 'LEJ',\n",
       " 'FMO',\n",
       " 'FDH',\n",
       " 'HHN',\n",
       " 'FMM',\n",
       " 'PAD',\n",
       " 'NRN',\n",
       " 'RLG',\n",
       " 'FKB',\n",
       " 'SCN',\n",
       " 'LBC',\n",
       " 'ZQW',\n",
       " 'KSF',\n",
       " 'XFW',\n",
       " 'NDZ',\n",
       " 'BER']"
      ]
     },
     "execution_count": 10,
     "metadata": {},
     "output_type": "execute_result"
    }
   ],
   "source": [
    "g.V().has(\"country\",\"DE\").as_(\"start\").union(\n",
    "    has(\"runways\",eq(1)).out().out(),\n",
    "    has(\"runways\",gte(1)).out()\n",
    ").has('code','PMI').select(\"start\").values(\"code\").dedup().to_list().run()"
   ]
  },
  {
   "cell_type": "code",
   "execution_count": 10,
   "metadata": {},
   "outputs": [
    {
     "name": "stdout",
     "output_type": "stream",
     "text": [
      "['Paris', 'Barcelona', 'Madrid', 'Nice', 'Palma De Mallorca', 'Malaga', 'Tenerife Island']\n",
      "['Paris', 'Barcelona', 'Madrid', 'Nice', 'Palma De Mallorca', 'Malaga', 'Tenerife Island']\n"
     ]
    }
   ],
   "source": [
    "print(g.V().has(\"code\", \"DUS\").out()\\\n",
    "\t.or_(has('country', 'ES'),has('country', 'FR'))\\\n",
    "\t.outE().as_(\"secondflight\").inV().has(\"country\",\"US\")\\\n",
    "\t.select(\"secondflight\").outV().values(\"city\").dedup().to_list().run())\n",
    "print(g.V().has('code' , 'DUS').out()\\\n",
    "\t.or_(has('country', 'ES'),has('country', 'FR')).as_(\"changeover\")\\\n",
    "\t.out().has('country','US').select(\"changeover\").values('city').dedup().to_list().run())"
   ]
  },
  {
   "cell_type": "code",
   "execution_count": 2,
   "metadata": {},
   "outputs": [],
   "source": [
    "graph = MogwaiGraph()\n",
    "g = MogwaiGraphTraversalSource(graph)"
   ]
  },
  {
   "cell_type": "code",
   "execution_count": 3,
   "metadata": {},
   "outputs": [
    {
     "data": {
      "text/plain": [
       "(0, 1)"
      ]
     },
     "execution_count": 3,
     "metadata": {},
     "output_type": "execute_result"
    }
   ],
   "source": [
    "jamie = g.addV(\"profile\", \"jamie\").property(\"age\", 50).next().run()\n",
    "adam = g.addV(\"profile\", \"adam\").property(\"age\", 38).next().run()\n",
    "g.addE(\"knows\").from_(jamie).to_(adam).property(\"years\", 15).next().run()"
   ]
  }
 ],
 "metadata": {
  "kernelspec": {
   "display_name": "Python 3 (ipykernel)",
   "language": "python",
   "name": "python3"
  },
  "language_info": {
   "codemirror_mode": {
    "name": "ipython",
    "version": 3
   },
   "file_extension": ".py",
   "mimetype": "text/x-python",
   "name": "python",
   "nbconvert_exporter": "python",
   "pygments_lexer": "ipython3",
   "version": "3.10.15"
  }
 },
 "nbformat": 4,
 "nbformat_minor": 4
}
