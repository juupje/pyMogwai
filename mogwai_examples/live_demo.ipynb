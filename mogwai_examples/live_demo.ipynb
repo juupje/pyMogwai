{
 "cells": [
  {
   "cell_type": "raw",
   "metadata": {},
   "source": [
    "# PyMogwai Live Demo!\n",
    "\n",
    "## Initialization\n",
    "First, we need to import the mogwai library"
   ]
  },
  {
   "cell_type": "code",
   "execution_count": null,
   "metadata": {},
   "outputs": [
    {
     "name": "stdout",
     "output_type": "stream",
     "text": [
      "Collecting pymogwai\n",
      "  Downloading pymogwai-0.0.7-py3-none-any.whl.metadata (5.1 kB)\n",
      "Collecting networkx==3.3 (from pymogwai)\n",
      "  Using cached networkx-3.3-py3-none-any.whl.metadata (5.1 kB)\n",
      "Collecting pydot>=2.0.0 (from pymogwai)\n",
      "  Using cached pydot-3.0.2-py3-none-any.whl.metadata (10 kB)\n",
      "Requirement already satisfied: pygraphviz>=0.20.3 in /opt/miniconda3/envs/mogwai_env/lib/python3.10/site-packages (from pymogwai) (1.9)\n",
      "Collecting pypdf>=4.2.0 (from pymogwai)\n",
      "  Using cached pypdf-5.1.0-py3-none-any.whl.metadata (7.2 kB)\n",
      "Collecting pysemanticslides==0.0.10 (from pymogwai)\n",
      "  Using cached pysemanticslides-0.0.10-py3-none-any.whl.metadata (3.0 kB)\n",
      "Collecting bibtexparser (from pysemanticslides==0.0.10->pymogwai)\n",
      "  Using cached bibtexparser-1.4.2-py3-none-any.whl\n",
      "Collecting dacite>=1.7.0 (from pysemanticslides==0.0.10->pymogwai)\n",
      "  Using cached dacite-1.8.1-py3-none-any.whl.metadata (15 kB)\n",
      "Collecting graphviz (from pysemanticslides==0.0.10->pymogwai)\n",
      "  Using cached graphviz-0.20.3-py3-none-any.whl.metadata (12 kB)\n",
      "Collecting isbnlib (from pysemanticslides==0.0.10->pymogwai)\n",
      "  Using cached isbnlib-3.10.14-py2.py3-none-any.whl.metadata (16 kB)\n",
      "Collecting pygenericspreadsheet (from pysemanticslides==0.0.10->pymogwai)\n",
      "  Using cached pygenericspreadsheet-0.4.0-py3-none-any.whl.metadata (3.1 kB)\n",
      "Collecting pylatexenc (from pysemanticslides==0.0.10->pymogwai)\n",
      "  Using cached pylatexenc-2.10-py3-none-any.whl\n",
      "Collecting pylodstorage>=0.4.9 (from pysemanticslides==0.0.10->pymogwai)\n",
      "  Using cached pylodstorage-0.13.3-py3-none-any.whl.metadata (3.1 kB)\n",
      "Collecting pyparsing (from pysemanticslides==0.0.10->pymogwai)\n",
      "  Using cached pyparsing-3.2.0-py3-none-any.whl.metadata (5.0 kB)\n",
      "Collecting python-pptx (from pysemanticslides==0.0.10->pymogwai)\n",
      "  Using cached python_pptx-1.0.2-py3-none-any.whl.metadata (2.5 kB)\n",
      "Collecting wikipedia (from pysemanticslides==0.0.10->pymogwai)\n",
      "  Using cached wikipedia-1.4.0-py3-none-any.whl\n",
      "Requirement already satisfied: typing_extensions>=4.0 in /opt/miniconda3/envs/mogwai_env/lib/python3.10/site-packages (from pypdf>=4.2.0->pymogwai) (4.11.0)\n",
      "Collecting dataclasses-json>=0.6.3 (from pylodstorage>=0.4.9->pysemanticslides==0.0.10->pymogwai)\n",
      "  Using cached dataclasses_json-0.6.7-py3-none-any.whl.metadata (25 kB)\n",
      "Collecting dicttoxml2 (from pylodstorage>=0.4.9->pysemanticslides==0.0.10->pymogwai)\n",
      "  Using cached dicttoxml2-2.1.0-py3-none-any.whl.metadata (2.9 kB)\n",
      "Collecting jsonpickle==1.5.2 (from pylodstorage>=0.4.9->pysemanticslides==0.0.10->pymogwai)\n",
      "  Using cached jsonpickle-1.5.2-py2.py3-none-any.whl.metadata (6.7 kB)\n",
      "Collecting matplotlib>=3.8.2 (from pylodstorage>=0.4.9->pysemanticslides==0.0.10->pymogwai)\n",
      "  Using cached matplotlib-3.9.2-cp310-cp310-macosx_10_12_x86_64.whl.metadata (11 kB)\n",
      "Collecting numpy (from pylodstorage>=0.4.9->pysemanticslides==0.0.10->pymogwai)\n",
      "  Using cached numpy-2.1.3-cp310-cp310-macosx_14_0_x86_64.whl.metadata (62 kB)\n",
      "Collecting orjson>=3.9.15 (from pylodstorage>=0.4.9->pysemanticslides==0.0.10->pymogwai)\n",
      "  Using cached orjson-3.10.11-cp310-cp310-macosx_10_15_x86_64.macosx_11_0_arm64.macosx_10_15_universal2.whl.metadata (50 kB)\n",
      "Collecting pandas (from pylodstorage>=0.4.9->pysemanticslides==0.0.10->pymogwai)\n",
      "  Using cached pandas-2.2.3-cp310-cp310-macosx_10_9_x86_64.whl.metadata (89 kB)\n",
      "Requirement already satisfied: pygments in /opt/miniconda3/envs/mogwai_env/lib/python3.10/site-packages (from pylodstorage>=0.4.9->pysemanticslides==0.0.10->pymogwai) (2.15.1)\n",
      "Collecting pymysql>=1.1.1 (from pylodstorage>=0.4.9->pysemanticslides==0.0.10->pymogwai)\n",
      "  Using cached PyMySQL-1.1.1-py3-none-any.whl.metadata (4.4 kB)\n",
      "Collecting python-slugify>=8.0.1 (from pylodstorage>=0.4.9->pysemanticslides==0.0.10->pymogwai)\n",
      "  Using cached python_slugify-8.0.4-py2.py3-none-any.whl.metadata (8.5 kB)\n",
      "Requirement already satisfied: pyyaml in /opt/miniconda3/envs/mogwai_env/lib/python3.10/site-packages (from pylodstorage>=0.4.9->pysemanticslides==0.0.10->pymogwai) (6.0.2)\n",
      "Collecting ratelimit>=2.2.1 (from pylodstorage>=0.4.9->pysemanticslides==0.0.10->pymogwai)\n",
      "  Using cached ratelimit-2.2.1-py3-none-any.whl\n",
      "Collecting rdflib>=7.1.0 (from pylodstorage>=0.4.9->pysemanticslides==0.0.10->pymogwai)\n",
      "  Using cached rdflib-7.1.1-py3-none-any.whl.metadata (11 kB)\n",
      "Requirement already satisfied: requests>=2.31.0 in /opt/miniconda3/envs/mogwai_env/lib/python3.10/site-packages (from pylodstorage>=0.4.9->pysemanticslides==0.0.10->pymogwai) (2.32.3)\n",
      "Collecting sparqlwrapper>=2.0.0 (from pylodstorage>=0.4.9->pysemanticslides==0.0.10->pymogwai)\n",
      "  Using cached SPARQLWrapper-2.0.0-py3-none-any.whl.metadata (2.0 kB)\n",
      "Collecting tabulate (from pylodstorage>=0.4.9->pysemanticslides==0.0.10->pymogwai)\n",
      "  Using cached tabulate-0.9.0-py3-none-any.whl.metadata (34 kB)\n",
      "Collecting gspread>=6.0.2 (from pygenericspreadsheet->pysemanticslides==0.0.10->pymogwai)\n",
      "  Using cached gspread-6.1.4-py3-none-any.whl.metadata (11 kB)\n",
      "Collecting odfpy>=1.4.1 (from pygenericspreadsheet->pysemanticslides==0.0.10->pymogwai)\n",
      "  Using cached odfpy-1.4.1-py2.py3-none-any.whl\n",
      "Collecting openpyxl>=3.1.2 (from pygenericspreadsheet->pysemanticslides==0.0.10->pymogwai)\n",
      "  Using cached openpyxl-3.1.5-py2.py3-none-any.whl.metadata (2.5 kB)\n",
      "Collecting py-ez-wikidata>=0.2.2 (from pygenericspreadsheet->pysemanticslides==0.0.10->pymogwai)\n",
      "  Using cached py_ez_wikidata-0.2.3-py3-none-any.whl.metadata (2.7 kB)\n",
      "Requirement already satisfied: python-dateutil>=2.8.2 in /opt/miniconda3/envs/mogwai_env/lib/python3.10/site-packages (from pygenericspreadsheet->pysemanticslides==0.0.10->pymogwai) (2.9.0.post0)\n",
      "Collecting xlsxwriter>=3.2.0 (from pygenericspreadsheet->pysemanticslides==0.0.10->pymogwai)\n",
      "  Using cached XlsxWriter-3.2.0-py3-none-any.whl.metadata (2.6 kB)\n",
      "Collecting Pillow>=3.3.2 (from python-pptx->pysemanticslides==0.0.10->pymogwai)\n",
      "  Using cached pillow-11.0.0-cp310-cp310-macosx_10_10_x86_64.whl.metadata (9.1 kB)\n",
      "Collecting lxml>=3.1.0 (from python-pptx->pysemanticslides==0.0.10->pymogwai)\n",
      "  Using cached lxml-5.3.0-cp310-cp310-macosx_10_9_x86_64.whl.metadata (3.8 kB)\n",
      "Requirement already satisfied: beautifulsoup4 in /opt/miniconda3/envs/mogwai_env/lib/python3.10/site-packages (from wikipedia->pysemanticslides==0.0.10->pymogwai) (4.12.3)\n",
      "Collecting marshmallow<4.0.0,>=3.18.0 (from dataclasses-json>=0.6.3->pylodstorage>=0.4.9->pysemanticslides==0.0.10->pymogwai)\n",
      "  Using cached marshmallow-3.23.1-py3-none-any.whl.metadata (7.5 kB)\n",
      "Collecting typing-inspect<1,>=0.4.0 (from dataclasses-json>=0.6.3->pylodstorage>=0.4.9->pysemanticslides==0.0.10->pymogwai)\n",
      "  Using cached typing_inspect-0.9.0-py3-none-any.whl.metadata (1.5 kB)\n",
      "Collecting google-auth>=1.12.0 (from gspread>=6.0.2->pygenericspreadsheet->pysemanticslides==0.0.10->pymogwai)\n",
      "  Using cached google_auth-2.36.0-py2.py3-none-any.whl.metadata (4.7 kB)\n",
      "Collecting google-auth-oauthlib>=0.4.1 (from gspread>=6.0.2->pygenericspreadsheet->pysemanticslides==0.0.10->pymogwai)\n",
      "  Using cached google_auth_oauthlib-1.2.1-py2.py3-none-any.whl.metadata (2.7 kB)\n",
      "Collecting contourpy>=1.0.1 (from matplotlib>=3.8.2->pylodstorage>=0.4.9->pysemanticslides==0.0.10->pymogwai)\n",
      "  Using cached contourpy-1.3.1-cp310-cp310-macosx_10_9_x86_64.whl.metadata (5.4 kB)\n",
      "Collecting cycler>=0.10 (from matplotlib>=3.8.2->pylodstorage>=0.4.9->pysemanticslides==0.0.10->pymogwai)\n",
      "  Using cached cycler-0.12.1-py3-none-any.whl.metadata (3.8 kB)\n",
      "Collecting fonttools>=4.22.0 (from matplotlib>=3.8.2->pylodstorage>=0.4.9->pysemanticslides==0.0.10->pymogwai)\n",
      "  Using cached fonttools-4.55.0-cp310-cp310-macosx_10_9_x86_64.whl.metadata (164 kB)\n",
      "Collecting kiwisolver>=1.3.1 (from matplotlib>=3.8.2->pylodstorage>=0.4.9->pysemanticslides==0.0.10->pymogwai)\n",
      "  Using cached kiwisolver-1.4.7-cp310-cp310-macosx_10_9_x86_64.whl.metadata (6.3 kB)\n",
      "Requirement already satisfied: packaging>=20.0 in /opt/miniconda3/envs/mogwai_env/lib/python3.10/site-packages (from matplotlib>=3.8.2->pylodstorage>=0.4.9->pysemanticslides==0.0.10->pymogwai) (24.1)\n",
      "Requirement already satisfied: defusedxml in /opt/miniconda3/envs/mogwai_env/lib/python3.10/site-packages (from odfpy>=1.4.1->pygenericspreadsheet->pysemanticslides==0.0.10->pymogwai) (0.7.1)\n",
      "Collecting et-xmlfile (from openpyxl>=3.1.2->pygenericspreadsheet->pysemanticslides==0.0.10->pymogwai)\n",
      "  Using cached et_xmlfile-2.0.0-py3-none-any.whl.metadata (2.7 kB)\n",
      "Requirement already satisfied: pytz>=2020.1 in /opt/miniconda3/envs/mogwai_env/lib/python3.10/site-packages (from pandas->pylodstorage>=0.4.9->pysemanticslides==0.0.10->pymogwai) (2024.1)\n",
      "Collecting tzdata>=2022.7 (from pandas->pylodstorage>=0.4.9->pysemanticslides==0.0.10->pymogwai)\n",
      "  Using cached tzdata-2024.2-py2.py3-none-any.whl.metadata (1.4 kB)\n",
      "Collecting wikibaseintegrator>=0.12.5 (from py-ez-wikidata>=0.2.2->pygenericspreadsheet->pysemanticslides==0.0.10->pymogwai)\n",
      "  Using cached wikibaseintegrator-0.12.9-py3-none-any.whl.metadata (35 kB)\n",
      "Requirement already satisfied: six>=1.5 in /opt/miniconda3/envs/mogwai_env/lib/python3.10/site-packages (from python-dateutil>=2.8.2->pygenericspreadsheet->pysemanticslides==0.0.10->pymogwai) (1.16.0)\n",
      "Collecting text-unidecode>=1.3 (from python-slugify>=8.0.1->pylodstorage>=0.4.9->pysemanticslides==0.0.10->pymogwai)\n",
      "  Using cached text_unidecode-1.3-py2.py3-none-any.whl.metadata (2.4 kB)\n",
      "Collecting isodate<1.0.0,>=0.7.2 (from rdflib>=7.1.0->pylodstorage>=0.4.9->pysemanticslides==0.0.10->pymogwai)\n",
      "  Using cached isodate-0.7.2-py3-none-any.whl.metadata (11 kB)\n",
      "Requirement already satisfied: charset-normalizer<4,>=2 in /opt/miniconda3/envs/mogwai_env/lib/python3.10/site-packages (from requests>=2.31.0->pylodstorage>=0.4.9->pysemanticslides==0.0.10->pymogwai) (3.3.2)\n",
      "Requirement already satisfied: idna<4,>=2.5 in /opt/miniconda3/envs/mogwai_env/lib/python3.10/site-packages (from requests>=2.31.0->pylodstorage>=0.4.9->pysemanticslides==0.0.10->pymogwai) (3.7)\n",
      "Requirement already satisfied: urllib3<3,>=1.21.1 in /opt/miniconda3/envs/mogwai_env/lib/python3.10/site-packages (from requests>=2.31.0->pylodstorage>=0.4.9->pysemanticslides==0.0.10->pymogwai) (2.2.3)\n",
      "Requirement already satisfied: certifi>=2017.4.17 in /opt/miniconda3/envs/mogwai_env/lib/python3.10/site-packages (from requests>=2.31.0->pylodstorage>=0.4.9->pysemanticslides==0.0.10->pymogwai) (2024.8.30)\n",
      "Requirement already satisfied: soupsieve>1.2 in /opt/miniconda3/envs/mogwai_env/lib/python3.10/site-packages (from beautifulsoup4->wikipedia->pysemanticslides==0.0.10->pymogwai) (2.5)\n",
      "Collecting cachetools<6.0,>=2.0.0 (from google-auth>=1.12.0->gspread>=6.0.2->pygenericspreadsheet->pysemanticslides==0.0.10->pymogwai)\n",
      "  Using cached cachetools-5.5.0-py3-none-any.whl.metadata (5.3 kB)\n",
      "Collecting pyasn1-modules>=0.2.1 (from google-auth>=1.12.0->gspread>=6.0.2->pygenericspreadsheet->pysemanticslides==0.0.10->pymogwai)\n",
      "  Using cached pyasn1_modules-0.4.1-py3-none-any.whl.metadata (3.5 kB)\n",
      "Collecting rsa<5,>=3.1.4 (from google-auth>=1.12.0->gspread>=6.0.2->pygenericspreadsheet->pysemanticslides==0.0.10->pymogwai)\n",
      "  Using cached rsa-4.9-py3-none-any.whl.metadata (4.2 kB)\n",
      "Collecting requests-oauthlib>=0.7.0 (from google-auth-oauthlib>=0.4.1->gspread>=6.0.2->pygenericspreadsheet->pysemanticslides==0.0.10->pymogwai)\n",
      "  Using cached requests_oauthlib-2.0.0-py2.py3-none-any.whl.metadata (11 kB)\n",
      "Collecting mypy-extensions>=0.3.0 (from typing-inspect<1,>=0.4.0->dataclasses-json>=0.6.3->pylodstorage>=0.4.9->pysemanticslides==0.0.10->pymogwai)\n",
      "  Using cached mypy_extensions-1.0.0-py3-none-any.whl.metadata (1.1 kB)\n",
      "Collecting backoff<3.0.0,>=2.2.1 (from wikibaseintegrator>=0.12.5->py-ez-wikidata>=0.2.2->pygenericspreadsheet->pysemanticslides==0.0.10->pymogwai)\n",
      "  Using cached backoff-2.2.1-py3-none-any.whl.metadata (14 kB)\n",
      "Collecting mwoauth<0.5.0,>=0.4.0 (from wikibaseintegrator>=0.12.5->py-ez-wikidata>=0.2.2->pygenericspreadsheet->pysemanticslides==0.0.10->pymogwai)\n",
      "  Using cached mwoauth-0.4.0-py3-none-any.whl.metadata (2.1 kB)\n",
      "Collecting oauthlib<4.0.0,>=3.2.2 (from wikibaseintegrator>=0.12.5->py-ez-wikidata>=0.2.2->pygenericspreadsheet->pysemanticslides==0.0.10->pymogwai)\n",
      "  Using cached oauthlib-3.2.2-py3-none-any.whl.metadata (7.5 kB)\n",
      "Collecting ujson<6.0.0,>=5.9.0 (from wikibaseintegrator>=0.12.5->py-ez-wikidata>=0.2.2->pygenericspreadsheet->pysemanticslides==0.0.10->pymogwai)\n",
      "  Using cached ujson-5.10.0-cp310-cp310-macosx_10_9_x86_64.whl.metadata (9.3 kB)\n",
      "Collecting PyJWT>=1.0.1 (from mwoauth<0.5.0,>=0.4.0->wikibaseintegrator>=0.12.5->py-ez-wikidata>=0.2.2->pygenericspreadsheet->pysemanticslides==0.0.10->pymogwai)\n",
      "  Using cached PyJWT-2.9.0-py3-none-any.whl.metadata (3.0 kB)\n",
      "Collecting pyasn1<0.7.0,>=0.4.6 (from pyasn1-modules>=0.2.1->google-auth>=1.12.0->gspread>=6.0.2->pygenericspreadsheet->pysemanticslides==0.0.10->pymogwai)\n",
      "  Using cached pyasn1-0.6.1-py3-none-any.whl.metadata (8.4 kB)\n",
      "Downloading pymogwai-0.0.7-py3-none-any.whl (979 kB)\n",
      "\u001b[2K   \u001b[90m━━━━━━━━━━━━━━━━━━━━━━━━━━━━━━━━━━━━━━━━\u001b[0m \u001b[32m979.9/979.9 kB\u001b[0m \u001b[31m16.6 MB/s\u001b[0m eta \u001b[36m0:00:00\u001b[0m\n",
      "\u001b[?25hUsing cached networkx-3.3-py3-none-any.whl (1.7 MB)\n",
      "Using cached pysemanticslides-0.0.10-py3-none-any.whl (16 kB)\n",
      "Using cached pydot-3.0.2-py3-none-any.whl (35 kB)\n",
      "Using cached pypdf-5.1.0-py3-none-any.whl (297 kB)\n",
      "Using cached dacite-1.8.1-py3-none-any.whl (14 kB)\n",
      "Using cached pylodstorage-0.13.3-py3-none-any.whl (90 kB)\n",
      "Using cached jsonpickle-1.5.2-py2.py3-none-any.whl (37 kB)\n",
      "Using cached pyparsing-3.2.0-py3-none-any.whl (106 kB)\n",
      "Using cached graphviz-0.20.3-py3-none-any.whl (47 kB)\n",
      "Using cached isbnlib-3.10.14-py2.py3-none-any.whl (52 kB)\n",
      "Using cached pygenericspreadsheet-0.4.0-py3-none-any.whl (13 kB)\n",
      "Using cached python_pptx-1.0.2-py3-none-any.whl (472 kB)\n",
      "Using cached dataclasses_json-0.6.7-py3-none-any.whl (28 kB)\n",
      "Using cached gspread-6.1.4-py3-none-any.whl (57 kB)\n",
      "Using cached lxml-5.3.0-cp310-cp310-macosx_10_9_x86_64.whl (4.4 MB)\n",
      "Using cached matplotlib-3.9.2-cp310-cp310-macosx_10_12_x86_64.whl (7.9 MB)\n",
      "Using cached numpy-2.1.3-cp310-cp310-macosx_14_0_x86_64.whl (6.9 MB)\n",
      "Using cached openpyxl-3.1.5-py2.py3-none-any.whl (250 kB)\n",
      "Using cached orjson-3.10.11-cp310-cp310-macosx_10_15_x86_64.macosx_11_0_arm64.macosx_10_15_universal2.whl (266 kB)\n",
      "Using cached pandas-2.2.3-cp310-cp310-macosx_10_9_x86_64.whl (12.6 MB)\n",
      "Using cached pillow-11.0.0-cp310-cp310-macosx_10_10_x86_64.whl (3.2 MB)\n",
      "Using cached py_ez_wikidata-0.2.3-py3-none-any.whl (156 kB)\n",
      "Using cached PyMySQL-1.1.1-py3-none-any.whl (44 kB)\n",
      "Using cached python_slugify-8.0.4-py2.py3-none-any.whl (10 kB)\n",
      "Using cached rdflib-7.1.1-py3-none-any.whl (562 kB)\n",
      "Using cached SPARQLWrapper-2.0.0-py3-none-any.whl (28 kB)\n",
      "Using cached XlsxWriter-3.2.0-py3-none-any.whl (159 kB)\n",
      "Using cached dicttoxml2-2.1.0-py3-none-any.whl (12 kB)\n",
      "Using cached tabulate-0.9.0-py3-none-any.whl (35 kB)\n",
      "Using cached contourpy-1.3.1-cp310-cp310-macosx_10_9_x86_64.whl (268 kB)\n",
      "Using cached cycler-0.12.1-py3-none-any.whl (8.3 kB)\n",
      "Using cached fonttools-4.55.0-cp310-cp310-macosx_10_9_x86_64.whl (2.3 MB)\n",
      "Using cached google_auth-2.36.0-py2.py3-none-any.whl (209 kB)\n",
      "Using cached google_auth_oauthlib-1.2.1-py2.py3-none-any.whl (24 kB)\n",
      "Using cached isodate-0.7.2-py3-none-any.whl (22 kB)\n",
      "Using cached kiwisolver-1.4.7-cp310-cp310-macosx_10_9_x86_64.whl (65 kB)\n",
      "Using cached marshmallow-3.23.1-py3-none-any.whl (49 kB)\n",
      "Using cached text_unidecode-1.3-py2.py3-none-any.whl (78 kB)\n",
      "Using cached typing_inspect-0.9.0-py3-none-any.whl (8.8 kB)\n",
      "Using cached tzdata-2024.2-py2.py3-none-any.whl (346 kB)\n",
      "Using cached wikibaseintegrator-0.12.9-py3-none-any.whl (83 kB)\n",
      "Using cached et_xmlfile-2.0.0-py3-none-any.whl (18 kB)\n",
      "Using cached backoff-2.2.1-py3-none-any.whl (15 kB)\n",
      "Using cached cachetools-5.5.0-py3-none-any.whl (9.5 kB)\n",
      "Using cached mwoauth-0.4.0-py3-none-any.whl (12 kB)\n",
      "Using cached mypy_extensions-1.0.0-py3-none-any.whl (4.7 kB)\n",
      "Using cached oauthlib-3.2.2-py3-none-any.whl (151 kB)\n",
      "Using cached pyasn1_modules-0.4.1-py3-none-any.whl (181 kB)\n",
      "Using cached requests_oauthlib-2.0.0-py2.py3-none-any.whl (24 kB)\n",
      "Using cached rsa-4.9-py3-none-any.whl (34 kB)\n",
      "Using cached ujson-5.10.0-cp310-cp310-macosx_10_9_x86_64.whl (55 kB)\n",
      "Using cached pyasn1-0.6.1-py3-none-any.whl (83 kB)\n",
      "Using cached PyJWT-2.9.0-py3-none-any.whl (22 kB)\n",
      "Installing collected packages: text-unidecode, ratelimit, pylatexenc, isbnlib, xlsxwriter, ujson, tzdata, tabulate, python-slugify, pypdf, pyparsing, pymysql, PyJWT, pyasn1, Pillow, orjson, odfpy, oauthlib, numpy, networkx, mypy-extensions, marshmallow, lxml, kiwisolver, jsonpickle, isodate, graphviz, fonttools, et-xmlfile, dicttoxml2, dacite, cycler, cachetools, backoff, wikipedia, typing-inspect, rsa, requests-oauthlib, rdflib, python-pptx, pydot, pyasn1-modules, pandas, openpyxl, contourpy, bibtexparser, sparqlwrapper, mwoauth, matplotlib, google-auth, dataclasses-json, wikibaseintegrator, pylodstorage, google-auth-oauthlib, py-ez-wikidata, gspread, pygenericspreadsheet, pysemanticslides, pymogwai\n"
     ]
    }
   ],
   "source": [
    "%pip install pymogwai"
   ]
  },
  {
   "cell_type": "markdown",
   "metadata": {},
   "source": [
    "see [pymogwai issue #2](https://github.com/juupje/pyMogwai/issues/2) for how to setup the pymogwai environment"
   ]
  },
  {
   "cell_type": "code",
   "execution_count": 4,
   "metadata": {},
   "outputs": [],
   "source": [
    "from mogwai.core.traversal import MogwaiGraphTraversalSource\n",
    "from mogwai.core.steps.statics import *\n",
    "from mogwai.parser import graphml_to_mogwaigraph"
   ]
  },
  {
   "cell_type": "markdown",
   "metadata": {},
   "source": [
    "Then, load the graph!"
   ]
  },
  {
   "cell_type": "code",
   "execution_count": 5,
   "metadata": {},
   "outputs": [],
   "source": [
    "airroutes_path = \"air-routes-latest.graphml\"\n",
    "graph = graphml_to_mogwaigraph(airroutes_path, node_label_key=\"labelV\", \n",
    "            edge_label_key=\"labelE\", node_name_key=\"desc\")"
   ]
  },
  {
   "cell_type": "markdown",
   "metadata": {},
   "source": [
    "Finally, create a traversal source"
   ]
  },
  {
   "cell_type": "code",
   "execution_count": 6,
   "metadata": {},
   "outputs": [],
   "source": [
    "g = MogwaiGraphTraversalSource(graph)"
   ]
  },
  {
   "cell_type": "markdown",
   "metadata": {},
   "source": [
    "## Let's go on a holiday!\n",
    "We want to go on holiday, where can we go from germany?"
   ]
  },
  {
   "cell_type": "code",
   "execution_count": 7,
   "metadata": {},
   "outputs": [
    {
     "name": "stdout",
     "output_type": "stream",
     "text": [
      "Query: V -> Contains -> Has -> Out -> Out -> In -> Contains -> Values -> Dedup -> ToList\n",
      "Result: ['United States', 'Puerto Rico', 'Canada', 'United Kingdom', 'France', 'Finland', 'Japan', 'Singapore', 'United Arab Emirates', 'India'] total:  110\n"
     ]
    }
   ],
   "source": [
    "query = g.V().has_label(\"country\").has_name(\"Germany\")\\\n",
    "        .out(\"contains\")\\\n",
    "        .out(\"route\")\\\n",
    "        .in_(\"contains\")\\\n",
    "        .has_label(\"country\").name().dedup().to_list()\n",
    "print(\"Query:\",query.print_query())\n",
    "res = query.run()\n",
    "print(\"Result:\", res[:10], \"total: \", len(res))"
   ]
  },
  {
   "cell_type": "markdown",
   "metadata": {},
   "source": [
    "Okay, that's a bit much. Let's see what's the farthest we can get without a layover"
   ]
  },
  {
   "cell_type": "code",
   "execution_count": 8,
   "metadata": {},
   "outputs": [
    {
     "name": "stdout",
     "output_type": "stream",
     "text": [
      "Result: Argentina\n"
     ]
    }
   ],
   "source": [
    "query = g.V().has_label(\"country\").has_name(\"Germany\")\\\n",
    "        .out(\"contains\")\\\n",
    "        .outE(\"route\").as_(\"e\")\\\n",
    "        .inV()\\\n",
    "        .in_(\"contains\").has_label(\"country\").as_('dest')\\\n",
    "        .select('e').properties('dist').max_()\\\n",
    "        .select('dest').by('name').next()\n",
    "print(\"Result:\", query.run())"
   ]
  },
  {
   "cell_type": "markdown",
   "metadata": {},
   "source": [
    "Well, that's nice. Let's go there! But from which airport are we departing?"
   ]
  },
  {
   "cell_type": "code",
   "execution_count": 9,
   "metadata": {},
   "outputs": [
    {
     "name": "stdout",
     "output_type": "stream",
     "text": [
      "Result: [['Frankfurt am Main', 'Argentina', 7141]]\n"
     ]
    }
   ],
   "source": [
    "query = g.V().has_label(\"country\").has_name(\"Germany\")\\\n",
    "            .out(\"contains\").as_('start')\\\n",
    "            .outE(\"route\").as_(\"e\")\\\n",
    "            .inV()\\\n",
    "            .in_(\"contains\").has_label(\"country\").as_('dest')\\\n",
    "            .select('e').properties('dist').as_('dist').max_().\\\n",
    "            select('start', 'dest', 'dist').to_list().by('name')\n",
    "res = query.run()\n",
    "print(\"Result:\",res)"
   ]
  },
  {
   "cell_type": "markdown",
   "metadata": {},
   "source": [
    "Hmm, that's a bit far away from Aachen. Let's see where we can go from a nearby airport"
   ]
  },
  {
   "cell_type": "code",
   "execution_count": 10,
   "metadata": {},
   "outputs": [
    {
     "data": {
      "text/plain": [
       "[['Dusseldorf International Airport', 'Singapore'],\n",
       " ['Brussels Airport', 'Japan'],\n",
       " ['Brussels South Charleroi Airport', 'Hong Kong'],\n",
       " ['Brussels Airport', 'Hong Kong'],\n",
       " ['Brussels Airport', 'China']]"
      ]
     },
     "execution_count": 10,
     "metadata": {},
     "output_type": "execute_result"
    }
   ],
   "source": [
    "g.V().has_label(\"airport\").within(\"city\", [\"Brussels\", \"Maastricht\", \"Aachen\", \"Dusseldorf\"]).as_('start')\\\n",
    "            .outE(\"route\").as_(\"e\")\\\n",
    "            .inV()\\\n",
    "            .in_(\"contains\").has_label(\"country\").as_('dest')\\\n",
    "            .order(desc=True).by(select('e').properties('dist'))\\\n",
    "            .limit(5)\\\n",
    "            .select('start', 'dest').to_list().by('name').run()"
   ]
  },
  {
   "cell_type": "markdown",
   "metadata": {},
   "source": [
    "Those flights are really long...\n",
    "I guess we have to accept layovers then. Where can we go within three hops if we want to depart from Maastricht Aachen Airport? We don't want a flight longer than 2000 miles."
   ]
  },
  {
   "cell_type": "code",
   "execution_count": 11,
   "metadata": {},
   "outputs": [
    {
     "ename": "AttributeError",
     "evalue": "'Traversal' object has no attribute 'has_property'",
     "output_type": "error",
     "traceback": [
      "\u001b[0;31m---------------------------------------------------------------------------\u001b[0m",
      "\u001b[0;31mAttributeError\u001b[0m                            Traceback (most recent call last)",
      "Cell \u001b[0;32mIn[11], line 1\u001b[0m\n\u001b[0;32m----> 1\u001b[0m \u001b[43mg\u001b[49m\u001b[38;5;241;43m.\u001b[39;49m\u001b[43mV\u001b[49m\u001b[43m(\u001b[49m\u001b[43m)\u001b[49m\u001b[38;5;241;43m.\u001b[39;49m\u001b[43mhas_label\u001b[49m\u001b[43m(\u001b[49m\u001b[38;5;124;43m'\u001b[39;49m\u001b[38;5;124;43mairport\u001b[39;49m\u001b[38;5;124;43m'\u001b[39;49m\u001b[43m)\u001b[49m\u001b[38;5;241;43m.\u001b[39;49m\u001b[43mhas_property\u001b[49m(\u001b[38;5;124m\"\u001b[39m\u001b[38;5;124mcity\u001b[39m\u001b[38;5;124m\"\u001b[39m, \u001b[38;5;124m\"\u001b[39m\u001b[38;5;124mMaastricht\u001b[39m\u001b[38;5;124m\"\u001b[39m)\u001b[38;5;241m.\u001b[39mas_(\u001b[38;5;124m'\u001b[39m\u001b[38;5;124mstart\u001b[39m\u001b[38;5;124m'\u001b[39m)\\\n\u001b[1;32m      2\u001b[0m     \u001b[38;5;241m.\u001b[39mrepeat(\n\u001b[1;32m      3\u001b[0m         outE(\u001b[38;5;124m'\u001b[39m\u001b[38;5;124mroute\u001b[39m\u001b[38;5;124m'\u001b[39m)\u001b[38;5;241m.\u001b[39mas_(\u001b[38;5;124m'\u001b[39m\u001b[38;5;124me\u001b[39m\u001b[38;5;124m'\u001b[39m)\\\n\u001b[1;32m      4\u001b[0m         \u001b[38;5;241m.\u001b[39minV()\u001b[38;5;241m.\u001b[39mfilter_(\n\u001b[1;32m      5\u001b[0m             select(\u001b[38;5;124m'\u001b[39m\u001b[38;5;124me\u001b[39m\u001b[38;5;124m'\u001b[39m)\u001b[38;5;241m.\u001b[39mproperties(\u001b[38;5;124m'\u001b[39m\u001b[38;5;124mdist\u001b[39m\u001b[38;5;124m'\u001b[39m)\u001b[38;5;241m.\u001b[39mis_(lte(\u001b[38;5;241m2000\u001b[39m))\n\u001b[1;32m      6\u001b[0m         )\u001b[38;5;241m.\u001b[39msimple_path()\n\u001b[1;32m      7\u001b[0m     )\u001b[38;5;241m.\u001b[39mtimes(\u001b[38;5;241m3\u001b[39m)\u001b[38;5;241m.\u001b[39memit()\u001b[38;5;241m.\u001b[39mas_(\u001b[38;5;124m'\u001b[39m\u001b[38;5;124mdest\u001b[39m\u001b[38;5;124m'\u001b[39m)\\\n\u001b[1;32m      8\u001b[0m     \u001b[38;5;241m.\u001b[39mpath()\u001b[38;5;241m.\u001b[39mas_(\u001b[38;5;124m'\u001b[39m\u001b[38;5;124mp\u001b[39m\u001b[38;5;124m'\u001b[39m)\\\n\u001b[1;32m      9\u001b[0m     \u001b[38;5;241m.\u001b[39mcount(Scope\u001b[38;5;241m.\u001b[39mlocal)\u001b[38;5;241m.\u001b[39morder(asc\u001b[38;5;241m=\u001b[39m\u001b[38;5;28;01mTrue\u001b[39;00m)\u001b[38;5;241m.\u001b[39mas_(\u001b[38;5;124m'\u001b[39m\u001b[38;5;124mlength\u001b[39m\u001b[38;5;124m'\u001b[39m)\\\n\u001b[1;32m     10\u001b[0m     \u001b[38;5;241m.\u001b[39mselect(\u001b[38;5;124m'\u001b[39m\u001b[38;5;124mdest\u001b[39m\u001b[38;5;124m'\u001b[39m)\u001b[38;5;241m.\u001b[39mdedup()\\\n\u001b[1;32m     11\u001b[0m     \u001b[38;5;241m.\u001b[39mselect(\u001b[38;5;124m'\u001b[39m\u001b[38;5;124mdest\u001b[39m\u001b[38;5;124m'\u001b[39m, \u001b[38;5;124m'\u001b[39m\u001b[38;5;124mlength\u001b[39m\u001b[38;5;124m'\u001b[39m)\u001b[38;5;241m.\u001b[39mto_list()\u001b[38;5;241m.\u001b[39mby(\u001b[38;5;124m'\u001b[39m\u001b[38;5;124mcity\u001b[39m\u001b[38;5;124m'\u001b[39m)\u001b[38;5;241m.\u001b[39mrun()\n",
      "\u001b[0;31mAttributeError\u001b[0m: 'Traversal' object has no attribute 'has_property'"
     ]
    }
   ],
   "source": [
    "g.V().has_label('airport').has_property(\"city\", \"Maastricht\").as_('start')\\\n",
    "    .repeat(\n",
    "        outE('route').as_('e')\\\n",
    "        .inV().filter_(\n",
    "            select('e').properties('dist').is_(lte(2000))\n",
    "        ).simple_path()\n",
    "    ).times(3).emit().as_('dest')\\\n",
    "    .path().as_('p')\\\n",
    "    .count(Scope.local).order(asc=True).as_('length')\\\n",
    "    .select('dest').dedup()\\\n",
    "    .select('dest', 'length').to_list().by('city').run()"
   ]
  },
  {
   "cell_type": "code",
   "execution_count": null,
   "metadata": {},
   "outputs": [],
   "source": []
  }
 ],
 "metadata": {
  "kernelspec": {
   "display_name": "Python 3 (ipykernel)",
   "language": "python",
   "name": "python3"
  },
  "language_info": {
   "codemirror_mode": {
    "name": "ipython",
    "version": 3
   },
   "file_extension": ".py",
   "mimetype": "text/x-python",
   "name": "python",
   "nbconvert_exporter": "python",
   "pygments_lexer": "ipython3",
   "version": "3.10.15"
  }
 },
 "nbformat": 4,
 "nbformat_minor": 4
}
